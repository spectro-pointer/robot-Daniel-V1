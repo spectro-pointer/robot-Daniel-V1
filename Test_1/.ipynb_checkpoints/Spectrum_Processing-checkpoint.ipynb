{
 "cells": [
  {
   "cell_type": "code",
   "execution_count": 140,
   "metadata": {},
   "outputs": [
    {
     "name": "stdout",
     "output_type": "stream",
     "text": [
      "['20171123_200925_Y_D_6.txt', '20171123_203207_Y_D_6.txt', '20171123_205450_Y_D_6.txt', '20171123_211732_Y_D_6.txt', '20171123_214014_Y_D_6.txt', '20171123_220256_Y_D_6.txt', '20171123_222538_Y_D_6.txt', '20171123_224821_Y_D_6.txt', '20171123_231103_Y_D_6.txt', '20171123_233345_Y_D_6.txt', '20171123_235627_Y_D_6.txt', '20171124_001910_Y_D_6.txt', '20171124_004152_Y_D_6.txt', '20171124_010434_Y_D_6.txt', '20171124_012716_Y_D_6.txt', '20171124_014958_Y_D_6.txt', '20171124_021241_Y_D_6.txt', '20171124_023523_Y_D_6.txt', '20171124_025805_Y_D_6.txt', '20171124_032047_Y_D_6.txt', '20171124_034330_Y_D_6.txt', '20171124_040612_Y_D_6.txt', '20171124_042854_Y_D_6.txt', '20171124_045136_Y_D_6.txt', '20171124_051419_Y_D_6.txt', '20171124_053701_Y_D_6.txt', '20171124_055943_Y_D_6.txt', '20171124_062225_Y_D_6.txt', '20171124_064508_Y_D_6.txt', '20171124_070750_Y_D_6.txt', '20171124_073032_Y_D_6.txt', '20171124_075314_Y_D_6.txt', '20171124_081557_Y_D_6.txt', '20171124_083839_Y_D_6.txt', '20171124_090121_Y_D_6.txt', '20171124_092404_Y_D_6.txt', '20171124_094646_Y_D_6.txt', '20171124_100928_Y_D_6.txt', '20171124_103210_Y_D_6.txt', '20171124_105453_Y_D_6.txt', '20171124_111735_Y_D_6.txt', '20171124_114017_Y_D_6.txt', '20171124_120259_Y_D_6.txt', '20171124_122541_Y_D_6.txt', '20171124_124823_Y_D_6.txt', '20171124_131106_Y_D_6.txt', '20171124_133348_Y_D_6.txt', '20171124_135630_Y_D_6.txt', '20171124_141912_Y_D_6.txt', '20171124_144155_Y_D_6.txt', '20171124_150437_Y_D_6.txt', '20171124_152719_Y_D_6.txt', '20171124_155001_Y_D_6.txt', '20171124_161244_Y_D_6.txt', '20171124_163526_Y_D_6.txt', '20171124_165808_Y_D_6.txt', '20171124_172050_Y_D_6.txt', '20171124_174332_Y_D_6.txt', '20171124_180615_Y_D_6.txt', '20171124_182857_Y_D_6.txt', '20171124_185139_Y_D_6.txt', '20171124_191421_Y_D_6.txt', '20171124_193703_Y_D_6.txt', '20171124_195946_Y_D_6.txt', '20171124_202228_Y_D_6.txt', '20171124_204510_Y_D_6.txt', '20171124_210752_Y_D_6.txt', '20171124_213035_Y_D_6.txt']\n",
      "['20171123_200925', '20171123_203207', '20171123_205450', '20171123_211732', '20171123_214014', '20171123_220256', '20171123_222538', '20171123_224821', '20171123_231103', '20171123_233345', '20171123_235627', '20171124_001910', '20171124_004152', '20171124_010434', '20171124_012716', '20171124_014958', '20171124_021241', '20171124_023523', '20171124_025805', '20171124_032047', '20171124_034330', '20171124_040612', '20171124_042854', '20171124_045136', '20171124_051419', '20171124_053701', '20171124_055943', '20171124_062225', '20171124_064508', '20171124_070750', '20171124_073032', '20171124_075314', '20171124_081557', '20171124_083839', '20171124_090121', '20171124_092404', '20171124_094646', '20171124_100928', '20171124_103210', '20171124_105453', '20171124_111735', '20171124_114017', '20171124_120259', '20171124_122541', '20171124_124823', '20171124_131106', '20171124_133348', '20171124_135630', '20171124_141912', '20171124_144155', '20171124_150437', '20171124_152719', '20171124_155001', '20171124_161244', '20171124_163526', '20171124_165808', '20171124_172050', '20171124_174332', '20171124_180615', '20171124_182857', '20171124_185139', '20171124_191421', '20171124_193703', '20171124_195946', '20171124_202228', '20171124_204510', '20171124_210752', '20171124_213035']\n"
     ]
    },
    {
     "ename": "IndexError",
     "evalue": "list index out of range",
     "output_type": "error",
     "traceback": [
      "\u001b[1;31m---------------------------------------------------------------------------\u001b[0m",
      "\u001b[1;31mIndexError\u001b[0m                                Traceback (most recent call last)",
      "\u001b[1;32m<ipython-input-140-4f6ffc973e74>\u001b[0m in \u001b[0;36m<module>\u001b[1;34m()\u001b[0m\n\u001b[0;32m     51\u001b[0m \u001b[0mtime_stamps\u001b[0m \u001b[1;33m=\u001b[0m \u001b[1;33m[\u001b[0m\u001b[0mfilenames\u001b[0m\u001b[1;33m[\u001b[0m\u001b[0mi\u001b[0m\u001b[1;33m]\u001b[0m\u001b[1;33m.\u001b[0m\u001b[0mreplace\u001b[0m\u001b[1;33m(\u001b[0m\u001b[1;34m\"_Y_\"\u001b[0m \u001b[1;33m+\u001b[0m \u001b[0mlocation\u001b[0m \u001b[1;33m+\u001b[0m \u001b[1;34m\".txt\"\u001b[0m\u001b[1;33m,\u001b[0m \u001b[1;34m\"\"\u001b[0m\u001b[1;33m)\u001b[0m \u001b[1;32mfor\u001b[0m \u001b[0mi\u001b[0m \u001b[1;32min\u001b[0m \u001b[0mrange\u001b[0m\u001b[1;33m(\u001b[0m\u001b[0mlen\u001b[0m\u001b[1;33m(\u001b[0m\u001b[0mfilenames\u001b[0m\u001b[1;33m)\u001b[0m\u001b[1;33m)\u001b[0m\u001b[1;33m]\u001b[0m\u001b[1;33m\u001b[0m\u001b[0m\n\u001b[0;32m     52\u001b[0m \u001b[0mprint\u001b[0m\u001b[1;33m(\u001b[0m\u001b[0mtime_stamps\u001b[0m\u001b[1;33m)\u001b[0m\u001b[1;33m\u001b[0m\u001b[0m\n\u001b[1;32m---> 53\u001b[1;33m \u001b[0mtimes_in_secs\u001b[0m \u001b[1;33m=\u001b[0m \u001b[0mday_time_to_num\u001b[0m\u001b[1;33m(\u001b[0m\u001b[0mtime_stamps\u001b[0m\u001b[1;33m)\u001b[0m\u001b[1;33m\u001b[0m\u001b[0m\n\u001b[0m\u001b[0;32m     54\u001b[0m \u001b[1;33m\u001b[0m\u001b[0m\n\u001b[0;32m     55\u001b[0m \u001b[1;31m# import one file to get length of data points\u001b[0m\u001b[1;33m\u001b[0m\u001b[1;33m\u001b[0m\u001b[0m\n",
      "\u001b[1;32m<ipython-input-140-4f6ffc973e74>\u001b[0m in \u001b[0;36mday_time_to_num\u001b[1;34m(date_time)\u001b[0m\n\u001b[0;32m     37\u001b[0m                     \u001b[1;33m(\u001b[0m\u001b[1;36m10\u001b[0m \u001b[1;33m*\u001b[0m \u001b[0mint\u001b[0m\u001b[1;33m(\u001b[0m\u001b[0mdate_time_stamps\u001b[0m\u001b[1;33m[\u001b[0m\u001b[0mi\u001b[0m\u001b[1;33m]\u001b[0m\u001b[1;33m[\u001b[0m\u001b[1;36m1\u001b[0m\u001b[1;33m]\u001b[0m\u001b[1;33m[\u001b[0m\u001b[1;36m4\u001b[0m\u001b[1;33m]\u001b[0m\u001b[1;33m)\u001b[0m \u001b[1;33m+\u001b[0m \u001b[0mint\u001b[0m\u001b[1;33m(\u001b[0m\u001b[0mdate_time_stamps\u001b[0m\u001b[1;33m[\u001b[0m\u001b[0mi\u001b[0m\u001b[1;33m]\u001b[0m\u001b[1;33m[\u001b[0m\u001b[1;36m1\u001b[0m\u001b[1;33m]\u001b[0m\u001b[1;33m[\u001b[0m\u001b[1;36m5\u001b[0m\u001b[1;33m]\u001b[0m\u001b[1;33m)\u001b[0m\u001b[1;33m)\u001b[0m\u001b[1;33m\u001b[0m\u001b[0m\n\u001b[0;32m     38\u001b[0m                     for i in range(len(date_time_stamps))]\n\u001b[1;32m---> 39\u001b[1;33m     print(date_time_stamps[0], time_in_secs[0], (10 * int(date_time_stamps[i][0][6]) + int(date_time_stamps[i][0][7]) * 86400),\n\u001b[0m\u001b[0;32m     40\u001b[0m          (10 * int(date_time_stamps[i][1][0]) + int(date_time_stamps[i][1][1]) * 60 * 60))\n\u001b[0;32m     41\u001b[0m     \u001b[0mtime_in_secs\u001b[0m \u001b[1;33m=\u001b[0m \u001b[1;33m[\u001b[0m\u001b[0mtime_in_secs\u001b[0m\u001b[1;33m[\u001b[0m\u001b[0mi\u001b[0m\u001b[1;33m]\u001b[0m \u001b[1;33m-\u001b[0m \u001b[0mmin\u001b[0m\u001b[1;33m(\u001b[0m\u001b[0mtime_in_secs\u001b[0m\u001b[1;33m)\u001b[0m \u001b[1;32mfor\u001b[0m \u001b[0mi\u001b[0m \u001b[1;32min\u001b[0m \u001b[0mrange\u001b[0m\u001b[1;33m(\u001b[0m\u001b[0mlen\u001b[0m\u001b[1;33m(\u001b[0m\u001b[0mtime_in_secs\u001b[0m\u001b[1;33m)\u001b[0m\u001b[1;33m)\u001b[0m\u001b[1;33m]\u001b[0m\u001b[1;33m\u001b[0m\u001b[0m\n",
      "\u001b[1;31mIndexError\u001b[0m: list index out of range"
     ]
    }
   ],
   "source": [
    "#!/usr/bin/env python3\n",
    "# -*- coding: utf-8 -*-\n",
    "\"\"\"\n",
    "Created on Wed Oct 18 16:59:34 2017\n",
    "\n",
    "@author: Daniel\n",
    "\"\"\"\n",
    "import glob, numpy\n",
    "import matplotlib.pyplot as plt\n",
    "\n",
    "# define a function to smooth the data\n",
    "def movingAv(a,window):\n",
    "    b = list(a.shape)\n",
    "    b[0]=b[0]-window+1\n",
    "    saver = numpy.zeros(b)\n",
    "    for ind in numpy.arange(window):\n",
    "        saver=saver+a[ind:a.shape[0]-window+ind+1,]\n",
    "    saver=saver/window\n",
    "    return saver\n",
    "\n",
    "def movingAv1(a,window):\n",
    "    b = len(a)-window+1\n",
    "    saver = numpy.zeros(b)\n",
    "    for ind in numpy.arange(window):\n",
    "        saver=saver+a[ind:a.shape[0]-window+ind+1,]\n",
    "    saver=saver/window\n",
    "    return saver\n",
    "\n",
    "#def extract_times(files):\n",
    "def day_time_to_num(date_time):\n",
    "    \n",
    "    date_time_stamps = [date_time[i].split('_') for i in range(len(date_time))]\n",
    "    \n",
    "    time_in_secs = [((10 * int(date_time_stamps[i][0][6]) + int(date_time_stamps[i][0][7])) * 24 * 60 * 60) +\n",
    "                    ((10 * int(date_time_stamps[i][1][0]) + int(date_time_stamps[i][1][1])) * 60 * 60) + \n",
    "                    ((10 * int(date_time_stamps[i][1][2]) + int(date_time_stamps[i][1][3])) * 60) +\n",
    "                    (10 * int(date_time_stamps[i][1][4]) + int(date_time_stamps[i][1][5]))\n",
    "                    for i in range(len(date_time_stamps))]\n",
    "    print(date_time_stamps[0], time_in_secs[0], (10 * int(date_time_stamps[i][0][6]) + int(date_time_stamps[i][0][7]) * 86400),\n",
    "         (10 * int(date_time_stamps[i][1][0]) + int(date_time_stamps[i][1][1]) * 60 * 60))\n",
    "    time_in_secs = [time_in_secs[i] - min(time_in_secs) for i in range(len(time_in_secs))]\n",
    "    return time_in_secs\n",
    "    \n",
    "location = \"D_6\"\n",
    "\n",
    "# get all file names for one well\n",
    "files = glob.glob('C:/Users/newho/Documents/robot-Daniel-V1/Test_1/spectrums/201711*' + location + '.txt')\n",
    "f = files[0].split(sep='\\\\')\n",
    "filenames = [files[i].split(sep='\\\\')[1] for i in range(len(files))] \n",
    "print(filenames)\n",
    "time_stamps = [filenames[i].replace(\"_Y_\" + location + \".txt\", \"\") for i in range(len(filenames))]\n",
    "print(time_stamps)\n",
    "times_in_secs = day_time_to_num(time_stamps)\n",
    "\n",
    "# import one file to get length of data points\n",
    "scores =  numpy.loadtxt(files[0], delimiter='\\t',  skiprows=5)\n",
    "xvals=scores[:,0]\n",
    "a = numpy.empty([scores.shape[0],len(files)])\n",
    "\n",
    "\n",
    "# get the spectrum for each file and store in 'a' columns\n",
    "for i, file in enumerate(files):\n",
    "    scores =  numpy.loadtxt(file, delimiter='\\t',  skiprows=5)\n",
    "    a[:,i] = scores[:,1]\n",
    "\n",
    "# plot\n",
    "x=movingAv1(xvals,15) # missing x-axis (saved in xvals), keep in mind movingAv function reduces size of \n",
    "y=movingAv(a,15) # smooth with a 15 data point window\n",
    "print(y.shape, x.shape)\n",
    "plt.plot(x, y)\n",
    "plt.figure()\n",
    "index = 600\n",
    "plt.plot(times_in_secs, y[index, :] )\n",
    "plt.title(\"{0}\".format(x[index]))\n",
    "plt.show()"
   ]
  },
  {
   "cell_type": "code",
   "execution_count": null,
   "metadata": {
    "collapsed": true
   },
   "outputs": [],
   "source": []
  },
  {
   "cell_type": "code",
   "execution_count": null,
   "metadata": {
    "collapsed": true
   },
   "outputs": [],
   "source": [
    "\n"
   ]
  }
 ],
 "metadata": {
  "kernelspec": {
   "display_name": "Python 3",
   "language": "python",
   "name": "python3"
  },
  "language_info": {
   "codemirror_mode": {
    "name": "ipython",
    "version": 3
   },
   "file_extension": ".py",
   "mimetype": "text/x-python",
   "name": "python",
   "nbconvert_exporter": "python",
   "pygments_lexer": "ipython3",
   "version": "3.6.1"
  }
 },
 "nbformat": 4,
 "nbformat_minor": 2
}
